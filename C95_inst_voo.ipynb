{
 "cells": [
  {
   "cell_type": "code",
   "execution_count": null,
   "metadata": {},
   "outputs": [],
   "source": [
    "import cv2\n",
    "from matplotlib import pyplot as plt\n",
    "from paddleocr import PaddleOCR\n",
    "import numpy as np\n",
    "import statistics as stat\n",
    "import pandas as pd\n",
    "from datetime import datetime\n",
    "import constants as c\n",
    "from collections import Counter\n",
    "from scipy import stats"
   ]
  },
  {
   "cell_type": "code",
   "execution_count": null,
   "metadata": {},
   "outputs": [],
   "source": [
    "ocr = PaddleOCR(lang='en',  use_angle_cls=True)"
   ]
  },
  {
   "cell_type": "code",
   "execution_count": 18,
   "metadata": {},
   "outputs": [],
   "source": [
    "def processing_image(image):\n",
    "    cropped_image = cv2.cvtColor(image, cv2.COLOR_BGR2GRAY)\n",
    "    cropped_image = cv2.bitwise_not(cropped_image)\n",
    "    M = np.ones(cropped_image.shape, dtype=\"uint8\") * 30\n",
    "    cropped_image = cv2.subtract(cropped_image, M)\n",
    "    \n",
    "    return cropped_image\n",
    "\n",
    "def final_value(list_value):\n",
    "  if list_value:\n",
    "    m = round(np.mean(list_value),1)\n",
    "    mode = round(stat.mode((list_value)),1)\n",
    "    if abs(m - mode)> 5:\n",
    "      return None\n",
    "    return m\n",
    "  return None\n",
    "\n",
    "def drop_outliers(angles):\n",
    "  if angles:\n",
    "      z = np.abs(stats.zscore(angles))\n",
    "      #print(z)\n",
    "      if np.all(np.isnan(z)):\n",
    "          return angles\n",
    "      new_angles = []\n",
    "      for i in range(len(angles)):\n",
    "          if z[i]<1.3 and z[i]> 0.3:\n",
    "              new_angles.append(angles[i])\n",
    "      return new_angles\n",
    "\n",
    "def corr_scala(value, scale):\n",
    "    if value:\n",
    "        aux = value%scale\n",
    "        value = value - aux\n",
    "        if aux >= scale/2:\n",
    "            value = value + scale\n",
    "            \n",
    "    return value\n",
    "\n",
    "def select_result_OCR(result_ocr, table_scale, dist_scale):\n",
    "    list_OCR  = []\n",
    "    for linha in result_ocr:\n",
    "        try:\n",
    "            number = int(linha[1][0])\n",
    "        except:\n",
    "            number = None\n",
    "        if number!= None and not number%table_scale:\n",
    "            list_OCR.append((number, (linha[0][0][1] + linha[0][3][1])/2))\n",
    "    \n",
    "    list_OCR_validos = []\n",
    "    idx_max = 0\n",
    "    max = -1\n",
    "    for i in range(len(list_OCR)-1):\n",
    "        aux1 = []\n",
    "        \n",
    "        \n",
    "        \n",
    "        for j in range(i+1,len(list_OCR)):\n",
    "            \n",
    "            calc = round((list_OCR[j][1] - list_OCR[i][1])*table_scale/dist_scale) + list_OCR[j][0]\n",
    "            calc = corr_scala(calc, table_scale)\n",
    "            \n",
    "            if list_OCR[i][0]== calc:\n",
    "                aux1.append(list_OCR[j])\n",
    "        if len(aux1):\n",
    "            aux1.append(list_OCR[i])\n",
    "            \n",
    "            if len(aux1) >= max:\n",
    "                max = len(aux1)\n",
    "                idx_max = i\n",
    "        list_OCR_validos.append(aux1)\n",
    "    if list_OCR_validos:\n",
    "        return list_OCR_validos[idx_max]\n",
    "    else: \n",
    "        return None\n",
    "\n",
    "def calc_ind(list_OCR_validos, table_scale, dist_scale, inst_scale, ref):\n",
    "    list_result = []\n",
    "    value = None\n",
    "    if list_OCR_validos:\n",
    "        for item in list_OCR_validos:\n",
    "            result = round(item[0] + (item[1] - ref)*table_scale/dist_scale,0)\n",
    "            list_result.append(result)\n",
    "        list_result = drop_outliers(list_result)\n",
    "        value = final_value(list_result)\n",
    "        value = corr_scala(value, inst_scale)\n",
    "        \n",
    "    return value"
   ]
  },
  {
   "cell_type": "code",
   "execution_count": null,
   "metadata": {},
   "outputs": [],
   "source": [
    "directory = '../frames/C95/'\n",
    "result = []\n",
    "df2_result = []\n",
    "df3_result = []\n",
    "ini = 0\n",
    "quant = 1799\n",
    "\n",
    "\n",
    "\n",
    "for i in range(ini,quant):\n",
    "    print(\"\\n\\n#################################### \", i, \"####################################\\n\\n \")\n",
    "    \n",
    "    \n",
    "    row_result = []\n",
    "    \n",
    "    for key, param in c.inst_voo_C95.items():\n",
    "        #print(key)\n",
    "        path = directory + 'v0_min_'+ key + '/' + key +\"_\" +  str(i) + '.png'\n",
    "        #print(path)\n",
    "        image = cv2.imread(path)\n",
    "        #plt.imshow(cv2.cvtColor(image, cv2.COLOR_BGR2RGB))\n",
    "        #plt.show()\n",
    "        image = processing_image(image)\n",
    "        ref = image.shape[0]/2\n",
    "        list_ocr = ocr.ocr(image, cls=False)\n",
    "        #for line in list_ocr:\n",
    "            #print(line)\n",
    "        list_ocr = select_result_OCR(list_ocr, c.scale_table_C95[key], c.dist_scala_C95)\n",
    "        #print(\"list_ocr:\", list_ocr)\n",
    "        number = calc_ind(list_ocr, c.scale_table_C95[key], c.dist_scala_C95,c.scale_voo_C95[key], ref)\n",
    "        #print(\"number:\", number)\n",
    "        row_result.append(number)\n",
    "        \n",
    "\n",
    "\n",
    "    result.append(row_result)\n",
    "\n",
    "df = pd.DataFrame(result, columns=[\"SPEED\",\"ALT\"])\n",
    "\n",
    "path = 'csv/C95/C95_VOO_' + datetime.today().strftime('%m%d_%H%M') + '.csv'\n",
    "df.to_csv(path, index= False)"
   ]
  },
  {
   "cell_type": "code",
   "execution_count": 3,
   "metadata": {},
   "outputs": [],
   "source": [
    "def drop_outliers(df):\n",
    "    df1 = pd.DataFrame()\n",
    "    for column in df:\n",
    "        value = df[column].tolist()\n",
    "        \n",
    "        limit = c.scale_voo_C95[column]\n",
    "        for i in range(1,len(value)):\n",
    "            if value[i]!= None and value[i-1]!= None:\n",
    "                if abs(value[i] - value[i-1]) > 5*limit:\n",
    "                    #print(column, i)\n",
    "                    value[i] = None\n",
    "                    #print(i)\n",
    "        \n",
    "        df1[column] = value\n",
    "    return df1\n",
    "\n",
    "def moving_average(dataframe, n):\n",
    "  df = dataframe.copy()\n",
    "  half_n = int(n/2)\n",
    "  idx = half_n + 1\n",
    "  idx_max = len(dataframe) - half_n\n",
    "  result = []\n",
    "  for i in range(0,idx):\n",
    "    result.append(round(df[0:i+half_n+1].mean(),1))\n",
    "  for i in range(idx,len(df)):\n",
    "    result.append(round(df[i-half_n:i+half_n+1].mean(),1))\n",
    "\n",
    "  res = pd.DataFrame(result,columns=df.columns.tolist())\n",
    "\n",
    "  return res\n",
    "\n",
    "def filter(dataframe, moving_average):\n",
    "  df = dataframe.copy()\n",
    "  dif = round(abs(df - moving_average),1)\n",
    "  for column in dif:\n",
    "    s = 5*c.scale_voo_C95[column]\n",
    "    idx = dif[column][dif[column] > s].index.tolist()\n",
    "    for i in idx:\n",
    "      #print(column, i)\n",
    "      df[column][i] = np.nan\n",
    "      \n",
    "\n",
    "  return df"
   ]
  },
  {
   "cell_type": "code",
   "execution_count": 4,
   "metadata": {},
   "outputs": [],
   "source": [
    "path = 'csv/C95/C95_VOO_1027_2220.csv'\n",
    "df1 = pd.read_csv(path)\n",
    "m = moving_average(df1,5)\n",
    "df1 = filter(df1,m)"
   ]
  },
  {
   "cell_type": "code",
   "execution_count": 5,
   "metadata": {},
   "outputs": [
    {
     "data": {
      "image/png": "[encoded data removed]",
      "text/plain": [
       "<Figure size 432x288 with 1 Axes>"
      ]
     },
     "metadata": {
      "needs_background": "light"
     },
     "output_type": "display_data"
    },
    {
     "data": {
      "image/png": "[encoded data removed]",
      "text/plain": [
       "<Figure size 432x288 with 1 Axes>"
      ]
     },
     "metadata": {
      "needs_background": "light"
     },
     "output_type": "display_data"
    }
   ],
   "source": [
    "df = df1.copy()\n",
    "for column in df:\n",
    "  inst = str(column)\n",
    "  \n",
    "  fig, ax = plt.subplots()\n",
    "\n",
    "  x = df.index.tolist()\n",
    "  y = df[column].values.tolist()\n",
    "  ax.scatter(x,y, marker=\".\", s =5)\n",
    "  plt.grid ()\n",
    "  title = column\n",
    "  plt.title(title,fontsize=25)\n",
    "  plt.xlabel ( ' Frame ')\n",
    "  plt.ylabel ( ' Value ')\n",
    "  plt.tight_layout ()\n",
    "  plt.show()"
   ]
  }
 ],
 "metadata": {
  "kernelspec": {
   "display_name": "Python 3.8.13 ('paddle_env')",
   "language": "python",
   "name": "python3"
  },
  "language_info": {
   "codemirror_mode": {
    "name": "ipython",
    "version": 3
   },
   "file_extension": ".py",
   "mimetype": "text/x-python",
   "name": "python",
   "nbconvert_exporter": "python",
   "pygments_lexer": "ipython3",
   "version": "3.8.13"
  },
  "orig_nbformat": 4,
  "vscode": {
   "interpreter": {
    "hash": "721cdd5945d8aa09a007676e36d1b8417ad7c902ea7962c8ad143d7c31b9e5d2"
   }
  }
 },
 "nbformat": 4,
 "nbformat_minor": 2
}
